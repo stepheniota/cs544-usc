{
 "cells": [
  {
   "cell_type": "code",
   "execution_count": 1,
   "id": "bb2f5205-6a32-428e-b68b-4147c2be9206",
   "metadata": {},
   "outputs": [],
   "source": [
    "%load_ext autoreload\n",
    "%autoreload 2"
   ]
  },
  {
   "cell_type": "code",
   "execution_count": 2,
   "id": "24c200f2-eca8-4270-9570-876dedaa3e6b",
   "metadata": {},
   "outputs": [],
   "source": [
    "from sklearn.linear_model import LogisticRegression\n",
    "from sklearn.feature_extraction.text import TfidfVectorizer, CountVectorizer\n",
    "\n",
    "from cipher_data import CipherTxtData\n",
    "from utils import accuracy_score_scalers"
   ]
  },
  {
   "cell_type": "code",
   "execution_count": 3,
   "id": "34f18981-8dbd-4c3a-b3ee-d59f0c6c6640",
   "metadata": {},
   "outputs": [],
   "source": [
    "train_data = CipherTxtData(mode=\"train\", split=False)\n",
    "dev_data = CipherTxtData(mode=\"dev\", split=False)"
   ]
  },
  {
   "cell_type": "code",
   "execution_count": 4,
   "id": "286a0314-5d2f-43b1-b001-45c3ced98cc8",
   "metadata": {},
   "outputs": [],
   "source": [
    "y_train = train_data.y\n",
    "y_dev = dev_data.y"
   ]
  },
  {
   "cell_type": "code",
   "execution_count": 5,
   "id": "2fa5fea6-3a75-48de-a723-9e8acea87a55",
   "metadata": {},
   "outputs": [],
   "source": [
    "vectorizer = TfidfVectorizer(lowercase=False, binary=True, analyzer='word', ngram_range=(1,6))\n",
    "X_train = vectorizer.fit_transform(train_data.X)\n",
    "\n",
    "X_dev = vectorizer.transform(dev_data.X)"
   ]
  },
  {
   "cell_type": "code",
   "execution_count": 6,
   "id": "6e7da08a-80dc-435d-89ec-17863d768579",
   "metadata": {},
   "outputs": [
    {
     "data": {
      "text/plain": [
       "0.8737049827331032"
      ]
     },
     "execution_count": 6,
     "metadata": {},
     "output_type": "execute_result"
    }
   ],
   "source": [
    "model = LogisticRegression()\n",
    "model.fit(X_train, y_train)\n",
    "\n",
    "y_pred = model.predict(X_dev)\n",
    "\n",
    "accuracy_score_scalers(y_dev, y_pred)"
   ]
  },
  {
   "cell_type": "code",
   "execution_count": 7,
   "id": "747605a5-f08a-4056-a750-6d7741b47dca",
   "metadata": {},
   "outputs": [],
   "source": [
    "X_final_train_data = train_data.X\n",
    "X_final_train_data.extend(dev_data.X)\n",
    "\n",
    "y_final_train = y_train\n",
    "y_final_train.extend(y_dev)\n",
    "\n",
    "test_data = CipherTxtData(mode=\"test\", split=False)"
   ]
  },
  {
   "cell_type": "code",
   "execution_count": 8,
   "id": "7b97742b-e387-419f-a52b-f58903c2b174",
   "metadata": {},
   "outputs": [],
   "source": [
    "vectorizer = TfidfVectorizer(lowercase=False, binary=True, analyzer='word', ngram_range=(1,6))\n",
    "X_final_train = vectorizer.fit_transform(X_final_train_data)\n",
    "\n",
    "X_test = vectorizer.transform(test_data.X)"
   ]
  },
  {
   "cell_type": "code",
   "execution_count": 9,
   "id": "16370721-b322-408c-b088-21588a24d3d9",
   "metadata": {},
   "outputs": [],
   "source": [
    "model = LogisticRegression()\n",
    "model.fit(X_final_train, y_final_train)\n",
    "\n",
    "y_pred = model.predict(X_test)"
   ]
  },
  {
   "cell_type": "code",
   "execution_count": 10,
   "id": "a0234111-0b8d-49b9-97e5-f165b7062caf",
   "metadata": {},
   "outputs": [],
   "source": [
    "from utils import save_results"
   ]
  },
  {
   "cell_type": "code",
   "execution_count": 11,
   "id": "1541d4b0-3440-4dee-b6a3-7b2a16123415",
   "metadata": {},
   "outputs": [],
   "source": [
    "save_results(y_pred)"
   ]
  },
  {
   "cell_type": "code",
   "execution_count": null,
   "id": "979cf3f8-0f63-4694-b290-8bd5b37f8e0a",
   "metadata": {},
   "outputs": [],
   "source": []
  }
 ],
 "metadata": {
  "kernelspec": {
   "display_name": "nlp",
   "language": "python",
   "name": "nlp"
  },
  "language_info": {
   "codemirror_mode": {
    "name": "ipython",
    "version": 3
   },
   "file_extension": ".py",
   "mimetype": "text/x-python",
   "name": "python",
   "nbconvert_exporter": "python",
   "pygments_lexer": "ipython3",
   "version": "3.7.5"
  }
 },
 "nbformat": 4,
 "nbformat_minor": 5
}
