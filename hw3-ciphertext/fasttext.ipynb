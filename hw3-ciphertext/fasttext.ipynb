{
 "cells": [
  {
   "cell_type": "code",
   "execution_count": 1,
   "id": "f77f237e-bbac-480a-9826-201e7ac828a1",
   "metadata": {},
   "outputs": [],
   "source": [
    "import fasttext\n",
    "from fasttext import FastText\n",
    "\n",
    "from cipher_data import *\n",
    "from utils import *"
   ]
  },
  {
   "cell_type": "code",
   "execution_count": 2,
   "id": "a2e9bc7a-133b-42f3-a127-a1232b9951ce",
   "metadata": {},
   "outputs": [],
   "source": [
    "traindata = CipherTxtData(mode=\"train\", split=False)\n",
    "devdata = CipherTxtData(mode=\"dev\", split=False)"
   ]
  },
  {
   "cell_type": "code",
   "execution_count": 3,
   "id": "6d19bd4c-7b9c-4ecd-9e5b-2ea25f9fe869",
   "metadata": {},
   "outputs": [],
   "source": [
    "X_train = traindata.X"
   ]
  },
  {
   "cell_type": "code",
   "execution_count": 4,
   "id": "f5e10649-e584-4c7a-9a92-8127db1334e8",
   "metadata": {},
   "outputs": [],
   "source": [
    "def save_to_txt(text, labels=None, file_name=\"test.txt\"):\n",
    "    with open(file_name, \"w\") as f:\n",
    "        if labels:\n",
    "            for seq, label in zip(text, labels):\n",
    "                f.write(f\"__label__{str(label)} {seq}\\n\")\n",
    "        else:\n",
    "            for seq in text:\n",
    "                f.write(seq)"
   ]
  },
  {
   "cell_type": "code",
   "execution_count": 5,
   "id": "0027569b-a674-4b64-a1da-2bd7b3856039",
   "metadata": {},
   "outputs": [],
   "source": [
    "def predict_fasttext(model, data):\n",
    "    predictions = []\n",
    "    for text in data:\n",
    "        pred = model.predict(text)\n",
    "        predictions.append(pred)\n",
    "    \n",
    "    return predictions"
   ]
  },
  {
   "cell_type": "code",
   "execution_count": 6,
   "id": "55d56ee2-8ff5-46e5-b4f6-8d855ffe9c48",
   "metadata": {},
   "outputs": [],
   "source": [
    "save_to_txt(X_train, traindata.y, \"train.txt\")"
   ]
  },
  {
   "cell_type": "code",
   "execution_count": 7,
   "id": "5be0bb2d-554e-4f2e-b665-9369b426046b",
   "metadata": {},
   "outputs": [],
   "source": [
    "save_to_txt(devdata.X, devdata.y, \"dev.txt\")"
   ]
  },
  {
   "cell_type": "code",
   "execution_count": 8,
   "id": "a2d77e37-1f7f-4401-a516-dcd6ab9d1635",
   "metadata": {},
   "outputs": [
    {
     "name": "stderr",
     "output_type": "stream",
     "text": [
      "Progress: 100.0% Trials:   74 Best score:  0.903305 ETA:   0h 0m 0s\n",
      "Training again with best arguments\n",
      "Read 0M words\n",
      "Number of words:  20861\n",
      "Number of labels: 2\n",
      "Progress: 100.0% words/sec/thread: 1849054 lr:  0.000000 avg.loss:  0.043786 ETA:   0h 0m 0s\n"
     ]
    }
   ],
   "source": [
    "model = fasttext.train_supervised(input='train.txt', autotuneValidationFile='dev.txt')"
   ]
  },
  {
   "cell_type": "code",
   "execution_count": 10,
   "id": "d948186e-d0a6-4f68-af3e-080c203b9ee8",
   "metadata": {},
   "outputs": [],
   "source": [
    "dev_predictions = predict_fasttext(model, devdata.X)\n",
    "dev_score = score_fasttext(dev_predictions, devdata.y)"
   ]
  },
  {
   "cell_type": "code",
   "execution_count": 11,
   "id": "cb816ff6-4f17-4ce1-8bd7-1130a7180862",
   "metadata": {},
   "outputs": [
    {
     "data": {
      "text/plain": [
       "0.903305377405032"
      ]
     },
     "execution_count": 11,
     "metadata": {},
     "output_type": "execute_result"
    }
   ],
   "source": [
    "dev_score"
   ]
  },
  {
   "cell_type": "code",
   "execution_count": 16,
   "id": "fe649b23-e50d-4295-9c12-c7eeea4acfab",
   "metadata": {
    "collapsed": true,
    "jupyter": {
     "outputs_hidden": true
    },
    "tags": []
   },
   "outputs": [
    {
     "name": "stderr",
     "output_type": "stream",
     "text": [
      "Read 0M words\n",
      "Number of words:  20861\n",
      "Number of labels: 2\n",
      "Progress: 100.0% words/sec/thread: 1951502 lr:  0.000000 avg.loss:  0.144839 ETA:   0h 0m 0s\n"
     ]
    },
    {
     "name": "stdout",
     "output_type": "stream",
     "text": [
      "min count=1\n",
      "\ttrain score=0.9909987669543773\n",
      "\tdev score=0.9013320177602367\n"
     ]
    },
    {
     "name": "stderr",
     "output_type": "stream",
     "text": [
      "Read 0M words\n",
      "Number of words:  9253\n",
      "Number of labels: 2\n",
      "Progress: 100.0% words/sec/thread: 1991824 lr:  0.000000 avg.loss:  0.148923 ETA:   0h 0m 0s\n"
     ]
    },
    {
     "name": "stdout",
     "output_type": "stream",
     "text": [
      "min count=3\n",
      "\ttrain score=0.9908138101109741\n",
      "\tdev score=0.8998519980266404\n"
     ]
    },
    {
     "name": "stderr",
     "output_type": "stream",
     "text": [
      "Read 0M words\n",
      "Number of words:  6081\n",
      "Number of labels: 2\n",
      "Progress: 100.0% words/sec/thread: 1990129 lr:  0.000000 avg.loss:  0.143150 ETA:   0h 0m 0s\n"
     ]
    },
    {
     "name": "stdout",
     "output_type": "stream",
     "text": [
      "min count=5\n",
      "\ttrain score=0.9909371146732429\n",
      "\tdev score=0.903305377405032\n"
     ]
    },
    {
     "name": "stderr",
     "output_type": "stream",
     "text": [
      "Read 0M words\n",
      "Number of words:  4532\n",
      "Number of labels: 2\n",
      "Progress: 100.0% words/sec/thread: 1581663 lr:  0.000000 avg.loss:  0.159171 ETA:   0h 0m 0s\n"
     ]
    },
    {
     "name": "stdout",
     "output_type": "stream",
     "text": [
      "min count=7\n",
      "\ttrain score=0.9910604192355117\n",
      "\tdev score=0.9023186975826344\n"
     ]
    },
    {
     "name": "stderr",
     "output_type": "stream",
     "text": [
      "Read 0M words\n",
      "Number of words:  3607\n",
      "Number of labels: 2\n",
      "Progress: 100.0% words/sec/thread: 1963461 lr:  0.000000 avg.loss:  0.139206 ETA:   0h 0m 0s\n"
     ]
    },
    {
     "name": "stdout",
     "output_type": "stream",
     "text": [
      "min count=9\n",
      "\ttrain score=0.9908754623921086\n",
      "\tdev score=0.8983719782930439\n"
     ]
    },
    {
     "name": "stderr",
     "output_type": "stream",
     "text": [
      "Read 0M words\n",
      "Number of words:  2974\n",
      "Number of labels: 2\n",
      "Progress: 100.0% words/sec/thread: 1970724 lr:  0.000000 avg.loss:  0.146994 ETA:   0h 0m 0s\n"
     ]
    },
    {
     "name": "stdout",
     "output_type": "stream",
     "text": [
      "min count=11\n",
      "\ttrain score=0.9909371146732429\n",
      "\tdev score=0.8983719782930439\n"
     ]
    },
    {
     "name": "stderr",
     "output_type": "stream",
     "text": [
      "Read 0M words\n",
      "Number of words:  2533\n",
      "Number of labels: 2\n",
      "Progress: 100.0% words/sec/thread: 1971116 lr:  0.000000 avg.loss:  0.132879 ETA:   0h 0m 0s\n",
      "Read 0M words\n",
      "Number of words:  2206\n",
      "Number of labels: 2\n"
     ]
    },
    {
     "name": "stdout",
     "output_type": "stream",
     "text": [
      "min count=13\n",
      "\ttrain score=0.9906905055487053\n",
      "\tdev score=0.8944252590034534\n"
     ]
    },
    {
     "name": "stderr",
     "output_type": "stream",
     "text": [
      "Progress: 100.0% words/sec/thread: 1966292 lr:  0.000000 avg.loss:  0.147001 ETA:   0h 0m 0s\n"
     ]
    },
    {
     "name": "stdout",
     "output_type": "stream",
     "text": [
      "min count=15\n",
      "\ttrain score=0.9910604192355117\n",
      "\tdev score=0.895411938825851\n"
     ]
    },
    {
     "name": "stderr",
     "output_type": "stream",
     "text": [
      "Read 0M words\n",
      "Number of words:  1968\n",
      "Number of labels: 2\n",
      "Progress: 100.0% words/sec/thread: 1975949 lr:  0.000000 avg.loss:  0.147597 ETA:   0h 0m 0s\n",
      "Read 0M words\n",
      "Number of words:  1766\n",
      "Number of labels: 2\n"
     ]
    },
    {
     "name": "stdout",
     "output_type": "stream",
     "text": [
      "min count=17\n",
      "\ttrain score=0.9908754623921086\n",
      "\tdev score=0.8949185989146522\n"
     ]
    },
    {
     "name": "stderr",
     "output_type": "stream",
     "text": [
      "Progress: 100.0% words/sec/thread: 1975764 lr:  0.000000 avg.loss:  0.156106 ETA:   0h 0m 0s\n"
     ]
    },
    {
     "name": "stdout",
     "output_type": "stream",
     "text": [
      "min count=19\n",
      "\ttrain score=0.9909371146732429\n",
      "\tdev score=0.8944252590034534\n"
     ]
    },
    {
     "name": "stderr",
     "output_type": "stream",
     "text": [
      "Read 0M words\n",
      "Number of words:  1574\n",
      "Number of labels: 2\n",
      "Progress: 100.0% words/sec/thread: 1953247 lr:  0.000000 avg.loss:  0.139685 ETA:   0h 0m 0s100.0% words/sec/thread: 1953681 lr: -0.000003 avg.loss:  0.139685 ETA:   0h 0m 0s\n",
      "Read 0M words\n",
      "Number of words:  1443\n",
      "Number of labels: 2\n"
     ]
    },
    {
     "name": "stdout",
     "output_type": "stream",
     "text": [
      "min count=21\n",
      "\ttrain score=0.9909371146732429\n",
      "\tdev score=0.8934385791810557\n"
     ]
    },
    {
     "name": "stderr",
     "output_type": "stream",
     "text": [
      "Progress: 100.0% words/sec/thread: 1969137 lr:  0.000000 avg.loss:  0.146275 ETA:   0h 0m 0s\n"
     ]
    },
    {
     "name": "stdout",
     "output_type": "stream",
     "text": [
      "min count=23\n",
      "\ttrain score=0.9911220715166461\n",
      "\tdev score=0.8944252590034534\n"
     ]
    },
    {
     "name": "stderr",
     "output_type": "stream",
     "text": [
      "Read 0M words\n",
      "Number of words:  1312\n",
      "Number of labels: 2\n",
      "Progress: 100.0% words/sec/thread: 1978384 lr:  0.000000 avg.loss:  0.141431 ETA:   0h 0m 0s\n",
      "Read 0M words\n",
      "Number of words:  1223\n",
      "Number of labels: 2\n"
     ]
    },
    {
     "name": "stdout",
     "output_type": "stream",
     "text": [
      "min count=25\n",
      "\ttrain score=0.9910604192355117\n",
      "\tdev score=0.895411938825851\n"
     ]
    },
    {
     "name": "stderr",
     "output_type": "stream",
     "text": [
      "Progress: 100.0% words/sec/thread: 2003542 lr:  0.000000 avg.loss:  0.140429 ETA:   0h 0m 0s0.140429 ETA:   0h 0m 0s\n",
      "Read 0M words\n",
      "Number of words:  1140\n",
      "Number of labels: 2\n"
     ]
    },
    {
     "name": "stdout",
     "output_type": "stream",
     "text": [
      "min count=27\n",
      "\ttrain score=0.9908138101109741\n",
      "\tdev score=0.8973852984706463\n"
     ]
    },
    {
     "name": "stderr",
     "output_type": "stream",
     "text": [
      "Progress: 100.0% words/sec/thread: 1970233 lr:  0.000000 avg.loss:  0.146761 ETA:   0h 0m 0s\n",
      "Read 0M words\n",
      "Number of words:  1060\n",
      "Number of labels: 2\n"
     ]
    },
    {
     "name": "stdout",
     "output_type": "stream",
     "text": [
      "min count=29\n",
      "\ttrain score=0.9910604192355117\n",
      "\tdev score=0.895411938825851\n"
     ]
    },
    {
     "name": "stderr",
     "output_type": "stream",
     "text": [
      "Progress: 100.0% words/sec/thread: 1990411 lr:  0.000000 avg.loss:  0.154355 ETA:   0h 0m 0s\n",
      "Read 0M words\n",
      "Number of words:  981\n",
      "Number of labels: 2\n"
     ]
    },
    {
     "name": "stdout",
     "output_type": "stream",
     "text": [
      "min count=31\n",
      "\ttrain score=0.9909371146732429\n",
      "\tdev score=0.8939319190922546\n"
     ]
    },
    {
     "name": "stderr",
     "output_type": "stream",
     "text": [
      "Progress: 100.0% words/sec/thread: 1958063 lr:  0.000000 avg.loss:  0.151011 ETA:   0h 0m 0s\n"
     ]
    },
    {
     "name": "stdout",
     "output_type": "stream",
     "text": [
      "min count=33\n",
      "\ttrain score=0.9911220715166461\n",
      "\tdev score=0.8889985199802664\n"
     ]
    },
    {
     "name": "stderr",
     "output_type": "stream",
     "text": [
      "Read 0M words\n",
      "Number of words:  921\n",
      "Number of labels: 2\n",
      "Progress: 100.0% words/sec/thread: 1424639 lr:  0.000000 avg.loss:  0.161234 ETA:   0h 0m 0s\n"
     ]
    },
    {
     "name": "stdout",
     "output_type": "stream",
     "text": [
      "min count=35\n",
      "\ttrain score=0.9909987669543773\n",
      "\tdev score=0.8919585594474593\n"
     ]
    },
    {
     "name": "stderr",
     "output_type": "stream",
     "text": [
      "Read 0M words\n",
      "Number of words:  866\n",
      "Number of labels: 2\n",
      "Progress: 100.0% words/sec/thread: 1977472 lr:  0.000000 avg.loss:  0.145436 ETA:   0h 0m 0s\n"
     ]
    },
    {
     "name": "stdout",
     "output_type": "stream",
     "text": [
      "min count=37\n",
      "\ttrain score=0.9909371146732429\n",
      "\tdev score=0.8944252590034534\n"
     ]
    },
    {
     "name": "stderr",
     "output_type": "stream",
     "text": [
      "Read 0M words\n",
      "Number of words:  832\n",
      "Number of labels: 2\n",
      "Progress: 100.0% words/sec/thread: 1979677 lr:  0.000000 avg.loss:  0.144156 ETA:   0h 0m 0s\n",
      "Read 0M words\n",
      "Number of words:  785\n",
      "Number of labels: 2\n"
     ]
    },
    {
     "name": "stdout",
     "output_type": "stream",
     "text": [
      "min count=39\n",
      "\ttrain score=0.9906288532675709\n",
      "\tdev score=0.8934385791810557\n"
     ]
    },
    {
     "name": "stderr",
     "output_type": "stream",
     "text": [
      "Progress: 100.0% words/sec/thread: 1987128 lr:  0.000000 avg.loss:  0.151947 ETA:   0h 0m 0s\n"
     ]
    },
    {
     "name": "stdout",
     "output_type": "stream",
     "text": [
      "min count=41\n",
      "\ttrain score=0.9909987669543773\n",
      "\tdev score=0.8919585594474593\n"
     ]
    },
    {
     "name": "stderr",
     "output_type": "stream",
     "text": [
      "Read 0M words\n",
      "Number of words:  751\n",
      "Number of labels: 2\n",
      "Progress: 100.0% words/sec/thread: 1981121 lr:  0.000000 avg.loss:  0.153435 ETA:   0h 0m 0s\n"
     ]
    },
    {
     "name": "stdout",
     "output_type": "stream",
     "text": [
      "min count=43\n",
      "\ttrain score=0.9909371146732429\n",
      "\tdev score=0.8919585594474593\n"
     ]
    },
    {
     "name": "stderr",
     "output_type": "stream",
     "text": [
      "Read 0M words\n",
      "Number of words:  711\n",
      "Number of labels: 2\n",
      "Progress: 100.0% words/sec/thread: 1994700 lr:  0.000000 avg.loss:  0.143566 ETA:   0h 0m 0s\n"
     ]
    },
    {
     "name": "stdout",
     "output_type": "stream",
     "text": [
      "min count=45\n",
      "\ttrain score=0.9909371146732429\n",
      "\tdev score=0.8919585594474593\n"
     ]
    },
    {
     "name": "stderr",
     "output_type": "stream",
     "text": [
      "Read 0M words\n",
      "Number of words:  676\n",
      "Number of labels: 2\n",
      "Progress: 100.0% words/sec/thread: 2012976 lr:  0.000000 avg.loss:  0.146265 ETA:   0h 0m 0s\n"
     ]
    },
    {
     "name": "stdout",
     "output_type": "stream",
     "text": [
      "min count=47\n",
      "\ttrain score=0.9911220715166461\n",
      "\tdev score=0.8904785397138628\n"
     ]
    },
    {
     "name": "stderr",
     "output_type": "stream",
     "text": [
      "Read 0M words\n",
      "Number of words:  640\n",
      "Number of labels: 2\n",
      "Progress: 100.0% words/sec/thread: 1986234 lr:  0.000000 avg.loss:  0.146159 ETA:   0h 0m 0s\n"
     ]
    },
    {
     "name": "stdout",
     "output_type": "stream",
     "text": [
      "min count=49\n",
      "\ttrain score=0.9908138101109741\n",
      "\tdev score=0.8894918598914652\n"
     ]
    }
   ],
   "source": [
    "for min_count in range(1, 50, 2):\n",
    "    model = FastText.train_supervised(\"train.txt\", epoch=20, wordNgrams=2, minCount=min_count)\n",
    "\n",
    "    dev_predictions = predict_fasttext(model, devdata.X)\n",
    "    dev_score = score_fasttext(dev_predictions, devdata.y)\n",
    "\n",
    "    train_predictions = predict_fasttext(model, traindata.X)\n",
    "    train_score = score_fasttext(train_predictions, traindata.y)\n",
    "    \n",
    "    print(f\"min count={min_count}\")\n",
    "    print(f\"\\ttrain score={train_score}\")\n",
    "    print(f\"\\tdev score={dev_score}\")"
   ]
  },
  {
   "cell_type": "code",
   "execution_count": 109,
   "id": "973edb55-585d-4724-bded-c96421140adf",
   "metadata": {},
   "outputs": [
    {
     "data": {
      "text/plain": [
       "(2027, 0.9018253576714356, 0.9018253576714356)"
      ]
     },
     "execution_count": 109,
     "metadata": {},
     "output_type": "execute_result"
    }
   ],
   "source": [
    "model.test(\"dev.txt\")"
   ]
  },
  {
   "cell_type": "code",
   "execution_count": 95,
   "id": "8352e4b3-db5c-46a0-b711-cf5de70ef93c",
   "metadata": {},
   "outputs": [
    {
     "data": {
      "text/plain": [
       "0.9910604192355117"
      ]
     },
     "execution_count": 95,
     "metadata": {},
     "output_type": "execute_result"
    }
   ],
   "source": [
    "predictions = []\n",
    "for text in traindata.X:\n",
    "    y_pred = model.predict(text)\n",
    "    predictions.append(y_pred)\n",
    "score_fasttext(predictions, traindata.y)"
   ]
  },
  {
   "cell_type": "code",
   "execution_count": 9,
   "id": "17cfed31-cf3d-4d60-899b-f8ef58a9554d",
   "metadata": {},
   "outputs": [],
   "source": [
    "def score_fasttext(predictions, truth):\n",
    "    score = 0\n",
    "    for pred, true in zip(predictions, truth):\n",
    "        if pred[0][0] == \"__label__1\" and true == 1:\n",
    "            score += 1\n",
    "        elif pred[0][0] == \"__label__0\" and true == 0:\n",
    "            score += 1\n",
    "    return score / len(truth)"
   ]
  },
  {
   "cell_type": "code",
   "execution_count": null,
   "id": "6fa95aeb-9bc0-4e53-ab35-d72abf717fb9",
   "metadata": {},
   "outputs": [],
   "source": []
  }
 ],
 "metadata": {
  "kernelspec": {
   "display_name": "nlp",
   "language": "python",
   "name": "nlp"
  },
  "language_info": {
   "codemirror_mode": {
    "name": "ipython",
    "version": 3
   },
   "file_extension": ".py",
   "mimetype": "text/x-python",
   "name": "python",
   "nbconvert_exporter": "python",
   "pygments_lexer": "ipython3",
   "version": "3.7.5"
  }
 },
 "nbformat": 4,
 "nbformat_minor": 5
}
