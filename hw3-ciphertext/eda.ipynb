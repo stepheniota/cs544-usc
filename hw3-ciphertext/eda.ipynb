{
 "cells": [
  {
   "cell_type": "code",
   "execution_count": 1,
   "id": "33542c47-a8f7-45a4-8964-c17c4aacb811",
   "metadata": {},
   "outputs": [],
   "source": [
    "%load_ext autoreload\n",
    "%autoreload 2"
   ]
  },
  {
   "cell_type": "code",
   "execution_count": 107,
   "id": "11024283-e3b1-4e88-95cd-614f8d9343a1",
   "metadata": {},
   "outputs": [],
   "source": [
    "from collections import Counter\n",
    "\n",
    "import numpy as np\n",
    "import gensim\n",
    "from gensim.corpora import Dictionary\n",
    "from gensim.models import Word2Vec\n",
    "\n",
    "from sklearn.linear_model import LogisticRegression\n",
    "from sklearn.feature_extraction.text import TfidfVectorizer, CountVectorizer\n",
    "\n",
    "import torch\n",
    "import torch.nn as nn\n",
    "from torch.utils.data import Dataset\n",
    "\n",
    "from cipher_data import *\n",
    "from utils import *"
   ]
  },
  {
   "cell_type": "code",
   "execution_count": 126,
   "id": "1f56e2e7-26b0-438a-8921-960c971de988",
   "metadata": {},
   "outputs": [],
   "source": [
    "traindata = CipherTxtData(mode=\"train\", split=True)\n",
    "X = traindata.X\n",
    "X_flattened = [word for sentence in X for word in sentence]"
   ]
  },
  {
   "cell_type": "code",
   "execution_count": 127,
   "id": "0bb34870-2029-4457-b97d-0235d7e0d6dd",
   "metadata": {},
   "outputs": [],
   "source": [
    "devdata = CipherTxtData(mode=\"dev\", split=True)"
   ]
  },
  {
   "cell_type": "code",
   "execution_count": 128,
   "id": "0c729491-2344-4f7c-9109-a7e405d4d7af",
   "metadata": {},
   "outputs": [
    {
     "name": "stdout",
     "output_type": "stream",
     "text": [
      "n_sentences = 16220\n",
      "n_words = 328882\n"
     ]
    }
   ],
   "source": [
    "n_sentences = len(X)\n",
    "print(f\"n_sentences = {n_sentences}\")\n",
    "n_words = len(X_flattened)\n",
    "print(f\"n_words = {n_words}\")"
   ]
  },
  {
   "cell_type": "code",
   "execution_count": 129,
   "id": "ef2eed74-28f7-46b9-8d0e-536b10fe2f75",
   "metadata": {},
   "outputs": [
    {
     "name": "stdout",
     "output_type": "stream",
     "text": [
      "lengths mean = 20.276\n",
      "lengths std = 9.365\n",
      "\n",
      "max length = 56\n",
      "min length = 1\n"
     ]
    }
   ],
   "source": [
    "lengths = np.array(list(map(len, X)))\n",
    "\n",
    "print(f\"lengths mean = {lengths.mean():0.3f}\")\n",
    "print(f\"lengths std = {lengths.std():0.3f}\")\n",
    "\n",
    "print()\n",
    "\n",
    "print(f\"max length = {lengths.max()}\")\n",
    "print(f\"min length = {lengths.min()}\")"
   ]
  },
  {
   "cell_type": "code",
   "execution_count": 130,
   "id": "7e65722c-0569-4d1e-b553-83a606063592",
   "metadata": {},
   "outputs": [
    {
     "data": {
      "text/plain": [
       "[('lkjl', 3746), ('jc', 2685), ('ütlk', 2310), ('zc', 2269), ('Úol', 2258)]"
      ]
     },
     "execution_count": 130,
     "metadata": {},
     "output_type": "execute_result"
    }
   ],
   "source": [
    "word_counts = Counter(X_flattened)\n",
    "word_counts.most_common()[10:15]"
   ]
  },
  {
   "cell_type": "code",
   "execution_count": 131,
   "id": "8a679265-4e8e-4ad8-b3bf-204f4d265520",
   "metadata": {},
   "outputs": [
    {
     "data": {
      "text/plain": [
       "20860"
      ]
     },
     "execution_count": 131,
     "metadata": {},
     "output_type": "execute_result"
    }
   ],
   "source": [
    "len(word_counts)"
   ]
  },
  {
   "cell_type": "code",
   "execution_count": 132,
   "id": "735ef05d-5386-4705-8842-a68fe0285776",
   "metadata": {},
   "outputs": [],
   "source": [
    "# Let label = 1 be positive and label = 0 be negative\n",
    "positive = []\n",
    "negative = []\n",
    "\n",
    "for x, y in zip(X, traindata.y):\n",
    "    if y == 1:\n",
    "        positive.append(x)\n",
    "    else:\n",
    "        negative.append(x)"
   ]
  },
  {
   "cell_type": "code",
   "execution_count": 133,
   "id": "d921c283-f854-4b3d-a876-437f35644a83",
   "metadata": {},
   "outputs": [],
   "source": [
    "#positive_words = set(word for seq in positive for word in seq)\n",
    "#negative_words = set(word for seq in negative for word in seq)\n",
    "\n",
    "#only_positive_words = positive_words - negative_words\n",
    "#only_negative_words = negative_words - positive_words\n",
    "\n",
    "#positive_word_counts = {word: count \n",
    "#                        for word, count in word_counts.items() if word in only_positive_words}\n",
    "#positive_word_counts = Counter(positive_word_counts)\n",
    "\n",
    "#negative_word_counts = {word: count \n",
    "#                        for word, count in word_counts.items() if word in only_negative_words}\n",
    "#negative_word_counts = Counter(negative_word_counts)\n",
    "\n",
    "#words = only_negative_words.union(only_positive_words)"
   ]
  },
  {
   "cell_type": "code",
   "execution_count": 134,
   "id": "15198102-fe42-4ae4-a0d6-06f8022398f3",
   "metadata": {},
   "outputs": [],
   "source": [
    "stop_words_0 = word_counts.most_common()[:20]\n",
    "stop_words = [x[0] for x in stop_words_0]\n",
    "\n",
    "stop_words_1 = word_counts.most_common()[-20:]\n",
    "stop_words_1 = [x[0] for x in stop_words_1]\n",
    "\n",
    "stop_words.extend(stop_words_1)\n",
    "\n",
    "stop_words = set(stop_words)"
   ]
  },
  {
   "cell_type": "code",
   "execution_count": 135,
   "id": "b18863ff-372f-401a-a398-6ca158ea3fa0",
   "metadata": {},
   "outputs": [],
   "source": [
    "X_filtered = list(\n",
    "    map(lambda seq: [word for word in seq if word not in stop_words], X)\n",
    ")"
   ]
  },
  {
   "cell_type": "code",
   "execution_count": 136,
   "id": "96ab5049-fef0-4c8b-9c6a-c00fb818e7da",
   "metadata": {},
   "outputs": [],
   "source": [
    "filtered_lengths = np.array(list(map(len, X_filtered)))"
   ]
  },
  {
   "cell_type": "code",
   "execution_count": 137,
   "id": "c8a2e0cc-2564-431e-8e21-4e09c5d3c046",
   "metadata": {},
   "outputs": [
    {
     "data": {
      "text/plain": [
       "12.914673242909988"
      ]
     },
     "execution_count": 137,
     "metadata": {},
     "output_type": "execute_result"
    }
   ],
   "source": [
    "filtered_lengths.mean()"
   ]
  },
  {
   "cell_type": "code",
   "execution_count": 138,
   "id": "b0afaec1-3cd8-41ea-ba74-94fd22aafaa7",
   "metadata": {},
   "outputs": [
    {
     "data": {
      "text/plain": [
       "6.372151126062358"
      ]
     },
     "execution_count": 138,
     "metadata": {},
     "output_type": "execute_result"
    }
   ],
   "source": [
    "filtered_lengths.std()"
   ]
  },
  {
   "cell_type": "code",
   "execution_count": 139,
   "id": "e47fff83-d0ff-4374-bab7-5c1547e83f69",
   "metadata": {},
   "outputs": [],
   "source": [
    "X_train = X_filtered\n",
    "X_dev = list(\n",
    "    map(lambda seq: [word for word in seq if word not in stop_words], devdata.X)\n",
    ")\n",
    "\n",
    "y_train = traindata.y\n",
    "y_dev = devdata.y"
   ]
  },
  {
   "cell_type": "code",
   "execution_count": 140,
   "id": "29519ed9-5d9d-461d-aeb1-0a7c8f240e8d",
   "metadata": {},
   "outputs": [],
   "source": [
    "X_train = list(\n",
    "    map(lambda seq: ' '.join(word for word in seq), X_train)\n",
    ")\n",
    "\n",
    "X_dev = list(\n",
    "    map(lambda seq: ' '.join(word for word in seq), X_dev)\n",
    ")"
   ]
  },
  {
   "cell_type": "code",
   "execution_count": null,
   "id": "944fa6b2-ce82-48f8-aa8c-33c481fb67dc",
   "metadata": {},
   "outputs": [],
   "source": []
  },
  {
   "cell_type": "code",
   "execution_count": 141,
   "id": "e76c138b-bffa-4c71-bd7f-b7d6372cc2d9",
   "metadata": {},
   "outputs": [],
   "source": [
    "vectorizer = TfidfVectorizer(lowercase=False, binary=True, analyzer='word', ngram_range=(1,6))\n",
    "X_train = vectorizer.fit_transform(X_train)\n",
    "\n",
    "X_dev = vectorizer.transform(X_dev)"
   ]
  },
  {
   "cell_type": "code",
   "execution_count": 142,
   "id": "678c96ab-1118-4d50-a083-7640d9d518ce",
   "metadata": {},
   "outputs": [
    {
     "data": {
      "text/plain": [
       "0.874198322644302"
      ]
     },
     "execution_count": 142,
     "metadata": {},
     "output_type": "execute_result"
    }
   ],
   "source": [
    "model = LogisticRegression()\n",
    "model.fit(X_train, y_train)\n",
    "\n",
    "y_pred = model.predict(X_dev)\n",
    "\n",
    "accuracy_score_scalers(y_dev, y_pred)"
   ]
  },
  {
   "cell_type": "code",
   "execution_count": 143,
   "id": "9f638cfa-f5e8-47ca-aea7-3f702786bed6",
   "metadata": {},
   "outputs": [],
   "source": [
    "from sklearn.naive_bayes import MultinomialNB"
   ]
  },
  {
   "cell_type": "code",
   "execution_count": 144,
   "id": "ceb62121-68ef-4258-ba0f-1a4ada7742f5",
   "metadata": {},
   "outputs": [],
   "source": [
    "def fit(X, y, smoothing=1):\n",
    "    nb = MultinomialNB(alpha=smoothing)\n",
    "    nb.fit(X, y)\n",
    "\n",
    "    return nb\n",
    "\n",
    "def predict(nb, X):\n",
    "    return nb.predict(X)"
   ]
  },
  {
   "cell_type": "code",
   "execution_count": 147,
   "id": "bef12da6-e544-4de3-bb30-15603ada5132",
   "metadata": {},
   "outputs": [],
   "source": [
    "model = fit(X_train, y_train, smoothing=1)\n",
    "y_pred = predict(model, X_dev)"
   ]
  },
  {
   "cell_type": "code",
   "execution_count": 148,
   "id": "0394475e-b02e-4f8d-ad05-4fcd8abebea9",
   "metadata": {},
   "outputs": [
    {
     "data": {
      "text/plain": [
       "0.8904785397138628"
      ]
     },
     "execution_count": 148,
     "metadata": {},
     "output_type": "execute_result"
    }
   ],
   "source": [
    "accuracy_score_scalers(y_dev, y_pred)"
   ]
  },
  {
   "cell_type": "code",
   "execution_count": null,
   "id": "acc5db2c-fd9a-4d48-913f-dc6289b91630",
   "metadata": {},
   "outputs": [],
   "source": []
  }
 ],
 "metadata": {
  "kernelspec": {
   "display_name": "nlp",
   "language": "python",
   "name": "nlp"
  },
  "language_info": {
   "codemirror_mode": {
    "name": "ipython",
    "version": 3
   },
   "file_extension": ".py",
   "mimetype": "text/x-python",
   "name": "python",
   "nbconvert_exporter": "python",
   "pygments_lexer": "ipython3",
   "version": "3.7.5"
  },
  "toc-autonumbering": true,
  "toc-showmarkdowntxt": true
 },
 "nbformat": 4,
 "nbformat_minor": 5
}
