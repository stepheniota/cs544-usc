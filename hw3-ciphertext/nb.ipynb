{
 "cells": [
  {
   "cell_type": "code",
   "execution_count": 2,
   "id": "e1a51c84-1e62-4f36-a20f-a570e2d76c8d",
   "metadata": {},
   "outputs": [],
   "source": [
    "%load_ext autoreload\n",
    "%autoreload 2"
   ]
  },
  {
   "cell_type": "code",
   "execution_count": 3,
   "id": "6ece36b4-f83f-4e1d-8e66-ed630c03909b",
   "metadata": {},
   "outputs": [],
   "source": [
    "from sklearn.naive_bayes import MultinomialNB\n",
    "from sklearn.feature_extraction.text import TfidfVectorizer\n",
    "from sklearn.model_selection import train_test_split\n",
    "\n",
    "from cipher_data import CipherTxtData\n",
    "from utils import accuracy_score_scalers, save_results"
   ]
  },
  {
   "cell_type": "code",
   "execution_count": 4,
   "id": "6c4bb442-1235-419f-b7f7-17094b125c8f",
   "metadata": {},
   "outputs": [],
   "source": [
    "def fit(X, y, smoothing=1):\n",
    "    nb = MultinomialNB(alpha=smoothing)\n",
    "    nb.fit(X, y)\n",
    "\n",
    "    return nb\n",
    "\n",
    "def predict(nb, X):\n",
    "    return nb.predict(X)"
   ]
  },
  {
   "cell_type": "code",
   "execution_count": 5,
   "id": "bd34489c-4e7b-4b4f-9dfb-86ad69b78d7b",
   "metadata": {},
   "outputs": [],
   "source": [
    "def tfid_transform(train_data, dev_data, lo, hi):\n",
    "    vectorizer = TfidfVectorizer(lowercase=False, binary=True, analyzer='word', ngram_range=(lo,hi))\n",
    "    \n",
    "    X_train = vectorizer.fit_transform(train_data)\n",
    "    X_dev = vectorizer.transform(dev_data)\n",
    "\n",
    "    return X_train, X_dev"
   ]
  },
  {
   "cell_type": "code",
   "execution_count": 6,
   "id": "cddc8cfe-08a3-4381-a66a-c616f8906906",
   "metadata": {},
   "outputs": [],
   "source": [
    "train_data = CipherTxtData(mode=\"train\", split=False)\n",
    "dev_data = CipherTxtData(mode=\"dev\", split=False)"
   ]
  },
  {
   "cell_type": "code",
   "execution_count": 7,
   "id": "4072878d-6a47-4a00-91b6-2ef246cc99e1",
   "metadata": {},
   "outputs": [],
   "source": [
    "## Doing this to cross-validate\n",
    "X = train_data.X\n",
    "X.extend(dev_data.X)\n",
    "\n",
    "y = train_data.y\n",
    "y.extend(dev_data.y)\n",
    "\n",
    "assert len(y) == len(X)"
   ]
  },
  {
   "cell_type": "code",
   "execution_count": 13,
   "id": "e36f384b-b212-4bb1-a1d3-61eefd620132",
   "metadata": {},
   "outputs": [],
   "source": [
    "X_train, X_dev, y_train, y_dev = train_test_split(X, y, test_size=0.15) \n",
    "X_train, X_dev = tfid_transform(X_train, X_dev, 1, 5)"
   ]
  },
  {
   "cell_type": "code",
   "execution_count": 14,
   "id": "ad81062b-2bc5-4299-9aa5-dc778cb1a005",
   "metadata": {},
   "outputs": [],
   "source": [
    "from sklearn.cluster import KMeans"
   ]
  },
  {
   "cell_type": "code",
   "execution_count": 15,
   "id": "9eb0ce56-299b-4f55-8d09-ec49fef52353",
   "metadata": {},
   "outputs": [],
   "source": [
    "model = KMeans(n_clusters=2)"
   ]
  },
  {
   "cell_type": "code",
   "execution_count": 16,
   "id": "2abf6d37-18ba-47d3-8b05-8c632da9bf00",
   "metadata": {},
   "outputs": [
    {
     "data": {
      "text/plain": [
       "KMeans(n_clusters=2)"
      ]
     },
     "execution_count": 16,
     "metadata": {},
     "output_type": "execute_result"
    }
   ],
   "source": [
    "model.fit(X_train)"
   ]
  },
  {
   "cell_type": "code",
   "execution_count": 23,
   "id": "9d4320b7-3081-4977-b0d7-aafa8c9c23f1",
   "metadata": {},
   "outputs": [],
   "source": [
    "pred = model.predict(X_dev)"
   ]
  },
  {
   "cell_type": "code",
   "execution_count": 24,
   "id": "1b376ddc-5303-4f6c-9694-c65752ac62fe",
   "metadata": {},
   "outputs": [
    {
     "data": {
      "text/plain": [
       "0.545653761869978"
      ]
     },
     "execution_count": 24,
     "metadata": {},
     "output_type": "execute_result"
    }
   ],
   "source": [
    "score_kmeans(pred, y_dev)"
   ]
  },
  {
   "cell_type": "code",
   "execution_count": 21,
   "id": "85de0b63-2308-4789-b227-9c60516e0bb2",
   "metadata": {},
   "outputs": [],
   "source": [
    "def score_kmeans(predictions, truth):\n",
    "    score = 0\n",
    "    for pred, true in zip(predictions, truth):\n",
    "        if pred == true:\n",
    "            score += 1\n",
    "        \n",
    "    return score / len(truth)"
   ]
  },
  {
   "cell_type": "code",
   "execution_count": 1,
   "id": "dc592c97-8bef-4169-8e75-5b5aa31230cb",
   "metadata": {},
   "outputs": [
    {
     "ename": "NameError",
     "evalue": "name 'train_test_split' is not defined",
     "output_type": "error",
     "traceback": [
      "\u001b[0;31m---------------------------------------------------------------------------\u001b[0m",
      "\u001b[0;31mNameError\u001b[0m                                 Traceback (most recent call last)",
      "\u001b[0;32m/var/folders/t8/2c9d0xvs4vjcxr988h8mqzm00000gn/T/ipykernel_9269/964440457.py\u001b[0m in \u001b[0;36m<module>\u001b[0;34m\u001b[0m\n\u001b[0;32m----> 1\u001b[0;31m \u001b[0mX_train_\u001b[0m\u001b[0;34m,\u001b[0m \u001b[0mX_dev_\u001b[0m\u001b[0;34m,\u001b[0m \u001b[0my_train\u001b[0m\u001b[0;34m,\u001b[0m \u001b[0my_dev\u001b[0m \u001b[0;34m=\u001b[0m \u001b[0mtrain_test_split\u001b[0m\u001b[0;34m(\u001b[0m\u001b[0mX\u001b[0m\u001b[0;34m,\u001b[0m \u001b[0my\u001b[0m\u001b[0;34m,\u001b[0m \u001b[0mtest_size\u001b[0m\u001b[0;34m=\u001b[0m\u001b[0;36m0.2\u001b[0m\u001b[0;34m)\u001b[0m\u001b[0;34m\u001b[0m\u001b[0;34m\u001b[0m\u001b[0m\n\u001b[0m",
      "\u001b[0;31mNameError\u001b[0m: name 'train_test_split' is not defined"
     ]
    }
   ],
   "source": [
    "X_train_, X_dev_, y_train, y_dev = train_test_split(X, y, test_size=0.2) "
   ]
  },
  {
   "cell_type": "code",
   "execution_count": 18,
   "id": "66a787ac-d0d7-4439-995a-6cde13eeb54f",
   "metadata": {},
   "outputs": [
    {
     "data": {
      "text/plain": [
       "14597"
      ]
     },
     "execution_count": 18,
     "metadata": {},
     "output_type": "execute_result"
    }
   ],
   "source": [
    "len(X_train_)"
   ]
  },
  {
   "cell_type": "code",
   "execution_count": 15,
   "id": "612e2cd0-c8b1-498e-b1d3-ae610ef20cb3",
   "metadata": {},
   "outputs": [],
   "source": [
    "X_train, X_dev = tfid_transform(X_train_, X_dev_, 1, 5)"
   ]
  },
  {
   "cell_type": "code",
   "execution_count": 16,
   "id": "b02ae9ed-2a48-49b5-b9c0-95d13dcdb171",
   "metadata": {},
   "outputs": [
    {
     "data": {
      "text/plain": [
       "(14597, 591060)"
      ]
     },
     "execution_count": 16,
     "metadata": {},
     "output_type": "execute_result"
    }
   ],
   "source": [
    "X_train.shape"
   ]
  },
  {
   "cell_type": "code",
   "execution_count": null,
   "id": "e639a88a-b2d5-4e65-9adc-a1139c050f11",
   "metadata": {},
   "outputs": [],
   "source": [
    "for i in range(5):\n",
    "    print(f\"Random split {i}\")\n",
    "    X_train_, X_dev_, y_train, y_dev = train_test_split(X, y, test_size=0.11) \n",
    "    print(\"Performance on dev dataset:\")\n",
    "    \n",
    "    best = 0\n",
    "    for lo in range(1, 2):\n",
    "        for hi in range(lo + 1, 10):\n",
    "            X_train, X_dev = tfid_transform(X_train_, X_dev_, lo, hi)\n",
    "\n",
    "            model = fit(X_train, y_train, smoothing=1)\n",
    "            y_pred = predict(model, X_dev)\n",
    "            score = accuracy_score_scalers(y_dev, y_pred)\n",
    "            if score > best:\n",
    "                print(\"\\tbest so far\")\n",
    "                best = score\n",
    "            print(f\"\\t (lo,hi): {lo,hi} \\tscore: {score:0.3f}\")"
   ]
  },
  {
   "cell_type": "code",
   "execution_count": 84,
   "id": "1b6b45e4-230e-4456-9e3b-41f7d6957f3c",
   "metadata": {},
   "outputs": [],
   "source": [
    "X, y\n",
    "test_data = CipherTxtData(mode=\"test\", split=False)"
   ]
  },
  {
   "cell_type": "code",
   "execution_count": 85,
   "id": "6926f256-f5e2-4924-8763-bb3bcc7d1a44",
   "metadata": {},
   "outputs": [],
   "source": [
    "lo, hi = (1, 5)"
   ]
  },
  {
   "cell_type": "code",
   "execution_count": 86,
   "id": "9afed389-3c5b-43c5-a2c8-a843b575a539",
   "metadata": {},
   "outputs": [],
   "source": [
    "X_train, X_test = tfid_transform(X, test_data.X, lo, hi)"
   ]
  },
  {
   "cell_type": "code",
   "execution_count": 87,
   "id": "f2c1db53-2526-493e-8615-be8ae79fcc24",
   "metadata": {},
   "outputs": [],
   "source": [
    "model = fit(X_train, y, smoothing=1)\n",
    "y_test = predict(model, X_test)"
   ]
  },
  {
   "cell_type": "code",
   "execution_count": 88,
   "id": "8a260b57-33a8-4702-a051-ec8b57cfef82",
   "metadata": {},
   "outputs": [],
   "source": [
    "save_results(y_test)"
   ]
  },
  {
   "cell_type": "code",
   "execution_count": null,
   "id": "d222c394-5dbe-48e8-9676-e1c25da15366",
   "metadata": {},
   "outputs": [],
   "source": []
  }
 ],
 "metadata": {
  "kernelspec": {
   "display_name": "nlp",
   "language": "python",
   "name": "nlp"
  },
  "language_info": {
   "codemirror_mode": {
    "name": "ipython",
    "version": 3
   },
   "file_extension": ".py",
   "mimetype": "text/x-python",
   "name": "python",
   "nbconvert_exporter": "python",
   "pygments_lexer": "ipython3",
   "version": "3.7.5"
  }
 },
 "nbformat": 4,
 "nbformat_minor": 5
}
