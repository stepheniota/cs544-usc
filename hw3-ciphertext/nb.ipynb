{
 "cells": [
  {
   "cell_type": "code",
   "execution_count": 54,
   "id": "e1a51c84-1e62-4f36-a20f-a570e2d76c8d",
   "metadata": {},
   "outputs": [
    {
     "name": "stdout",
     "output_type": "stream",
     "text": [
      "The autoreload extension is already loaded. To reload it, use:\n",
      "  %reload_ext autoreload\n"
     ]
    }
   ],
   "source": [
    "%load_ext autoreload\n",
    "%autoreload 2"
   ]
  },
  {
   "cell_type": "code",
   "execution_count": 55,
   "id": "6ece36b4-f83f-4e1d-8e66-ed630c03909b",
   "metadata": {},
   "outputs": [],
   "source": [
    "from sklearn.naive_bayes import MultinomialNB\n",
    "from sklearn.feature_extraction.text import TfidfVectorizer\n",
    "from sklearn.model_selection import train_test_split\n",
    "\n",
    "from cipher_data import CipherTxtData\n",
    "from utils import accuracy_score_scalers, save_results"
   ]
  },
  {
   "cell_type": "code",
   "execution_count": 56,
   "id": "6c4bb442-1235-419f-b7f7-17094b125c8f",
   "metadata": {},
   "outputs": [],
   "source": [
    "def fit(X, y, smoothing=1):\n",
    "    nb = MultinomialNB(alpha=smoothing)\n",
    "    nb.fit(X, y)\n",
    "\n",
    "    return nb\n",
    "\n",
    "def predict(nb, X):\n",
    "    return nb.predict(X)"
   ]
  },
  {
   "cell_type": "code",
   "execution_count": 79,
   "id": "bd34489c-4e7b-4b4f-9dfb-86ad69b78d7b",
   "metadata": {},
   "outputs": [],
   "source": [
    "def tfid_transform(train_data, dev_data, lo, hi):\n",
    "    vectorizer = TfidfVectorizer(lowercase=False, binary=True, analyzer='word', ngram_range=(lo,hi))\n",
    "    \n",
    "    X_train = vectorizer.fit_transform(train_data)\n",
    "    X_dev = vectorizer.transform(dev_data)\n",
    "\n",
    "    return X_train, X_dev"
   ]
  },
  {
   "cell_type": "code",
   "execution_count": 58,
   "id": "cddc8cfe-08a3-4381-a66a-c616f8906906",
   "metadata": {},
   "outputs": [],
   "source": [
    "train_data = CipherTxtData(mode=\"train\", split=False)\n",
    "dev_data = CipherTxtData(mode=\"dev\", split=False)"
   ]
  },
  {
   "cell_type": "code",
   "execution_count": 59,
   "id": "4072878d-6a47-4a00-91b6-2ef246cc99e1",
   "metadata": {},
   "outputs": [],
   "source": [
    "## Doing this to cross-validate\n",
    "X = train_data.X\n",
    "X.extend(dev_data.X)\n",
    "\n",
    "y = train_data.y\n",
    "y.extend(dev_data.y)\n",
    "\n",
    "assert len(y) == len(X)"
   ]
  },
  {
   "cell_type": "code",
   "execution_count": 60,
   "id": "e36f384b-b212-4bb1-a1d3-61eefd620132",
   "metadata": {},
   "outputs": [],
   "source": [
    "X_train, X_dev, y_train, y_dev = train_test_split(X, y, test_size=0.15) "
   ]
  },
  {
   "cell_type": "code",
   "execution_count": 83,
   "id": "e639a88a-b2d5-4e65-9adc-a1139c050f11",
   "metadata": {},
   "outputs": [
    {
     "name": "stdout",
     "output_type": "stream",
     "text": [
      "Random split 0\n",
      "Performance on dev dataset:\n",
      "\tbest so far\n",
      "\t (lo,hi): (1, 2) \tscore: 0.885\n",
      "\tbest so far\n",
      "\t (lo,hi): (1, 3) \tscore: 0.889\n",
      "\tbest so far\n",
      "\t (lo,hi): (1, 4) \tscore: 0.893\n",
      "\t (lo,hi): (1, 5) \tscore: 0.892\n",
      "\t (lo,hi): (1, 6) \tscore: 0.893\n",
      "\tbest so far\n",
      "\t (lo,hi): (1, 7) \tscore: 0.893\n",
      "\t (lo,hi): (1, 8) \tscore: 0.893\n",
      "\t (lo,hi): (1, 9) \tscore: 0.893\n",
      "Random split 1\n",
      "Performance on dev dataset:\n",
      "\tbest so far\n",
      "\t (lo,hi): (1, 2) \tscore: 0.872\n",
      "\tbest so far\n",
      "\t (lo,hi): (1, 3) \tscore: 0.878\n",
      "\t (lo,hi): (1, 4) \tscore: 0.876\n",
      "\t (lo,hi): (1, 5) \tscore: 0.876\n",
      "\t (lo,hi): (1, 6) \tscore: 0.876\n",
      "\t (lo,hi): (1, 7) \tscore: 0.876\n",
      "\t (lo,hi): (1, 8) \tscore: 0.876\n",
      "\t (lo,hi): (1, 9) \tscore: 0.876\n",
      "Random split 2\n",
      "Performance on dev dataset:\n",
      "\tbest so far\n",
      "\t (lo,hi): (1, 2) \tscore: 0.887\n",
      "\tbest so far\n",
      "\t (lo,hi): (1, 3) \tscore: 0.893\n",
      "\tbest so far\n",
      "\t (lo,hi): (1, 4) \tscore: 0.895\n",
      "\tbest so far\n",
      "\t (lo,hi): (1, 5) \tscore: 0.896\n",
      "\tbest so far\n",
      "\t (lo,hi): (1, 6) \tscore: 0.896\n",
      "\t (lo,hi): (1, 7) \tscore: 0.896\n",
      "\t (lo,hi): (1, 8) \tscore: 0.896\n",
      "\t (lo,hi): (1, 9) \tscore: 0.895\n",
      "Random split 3\n",
      "Performance on dev dataset:\n",
      "\tbest so far\n",
      "\t (lo,hi): (1, 2) \tscore: 0.876\n",
      "\tbest so far\n",
      "\t (lo,hi): (1, 3) \tscore: 0.881\n",
      "\tbest so far\n",
      "\t (lo,hi): (1, 4) \tscore: 0.882\n",
      "\tbest so far\n",
      "\t (lo,hi): (1, 5) \tscore: 0.884\n",
      "\t (lo,hi): (1, 6) \tscore: 0.883\n",
      "\t (lo,hi): (1, 7) \tscore: 0.883\n",
      "\t (lo,hi): (1, 8) \tscore: 0.882\n",
      "\t (lo,hi): (1, 9) \tscore: 0.882\n",
      "Random split 4\n",
      "Performance on dev dataset:\n",
      "\tbest so far\n",
      "\t (lo,hi): (1, 2) \tscore: 0.879\n",
      "\tbest so far\n",
      "\t (lo,hi): (1, 3) \tscore: 0.888\n",
      "\tbest so far\n",
      "\t (lo,hi): (1, 4) \tscore: 0.888\n",
      "\tbest so far\n",
      "\t (lo,hi): (1, 5) \tscore: 0.889\n",
      "\t (lo,hi): (1, 6) \tscore: 0.889\n",
      "\tbest so far\n",
      "\t (lo,hi): (1, 7) \tscore: 0.890\n",
      "\tbest so far\n",
      "\t (lo,hi): (1, 8) \tscore: 0.890\n",
      "\tbest so far\n",
      "\t (lo,hi): (1, 9) \tscore: 0.891\n"
     ]
    }
   ],
   "source": [
    "for i in range(5):\n",
    "    print(f\"Random split {i}\")\n",
    "    X_train_, X_dev_, y_train, y_dev = train_test_split(X, y, test_size=0.11) \n",
    "    print(\"Performance on dev dataset:\")\n",
    "    \n",
    "    best = 0\n",
    "    for lo in range(1, 2):\n",
    "        for hi in range(lo + 1, 10):\n",
    "            X_train, X_dev = tfid_transform(X_train_, X_dev_, lo, hi)\n",
    "\n",
    "            model = fit(X_train, y_train, smoothing=1)\n",
    "            y_pred = predict(model, X_dev)\n",
    "            score = accuracy_score_scalers(y_dev, y_pred)\n",
    "            if score > best:\n",
    "                print(\"\\tbest so far\")\n",
    "                best = score\n",
    "            print(f\"\\t (lo,hi): {lo,hi} \\tscore: {score:0.3f}\")"
   ]
  },
  {
   "cell_type": "code",
   "execution_count": 84,
   "id": "1b6b45e4-230e-4456-9e3b-41f7d6957f3c",
   "metadata": {},
   "outputs": [],
   "source": [
    "X, y\n",
    "test_data = CipherTxtData(mode=\"test\", split=False)"
   ]
  },
  {
   "cell_type": "code",
   "execution_count": 85,
   "id": "6926f256-f5e2-4924-8763-bb3bcc7d1a44",
   "metadata": {},
   "outputs": [],
   "source": [
    "lo, hi = (1, 5)"
   ]
  },
  {
   "cell_type": "code",
   "execution_count": 86,
   "id": "9afed389-3c5b-43c5-a2c8-a843b575a539",
   "metadata": {},
   "outputs": [],
   "source": [
    "X_train, X_test = tfid_transform(X, test_data.X, lo, hi)"
   ]
  },
  {
   "cell_type": "code",
   "execution_count": 87,
   "id": "f2c1db53-2526-493e-8615-be8ae79fcc24",
   "metadata": {},
   "outputs": [],
   "source": [
    "model = fit(X_train, y, smoothing=1)\n",
    "y_test = predict(model, X_test)"
   ]
  },
  {
   "cell_type": "code",
   "execution_count": 88,
   "id": "8a260b57-33a8-4702-a051-ec8b57cfef82",
   "metadata": {},
   "outputs": [],
   "source": [
    "save_results(y_test)"
   ]
  },
  {
   "cell_type": "code",
   "execution_count": null,
   "id": "d222c394-5dbe-48e8-9676-e1c25da15366",
   "metadata": {},
   "outputs": [],
   "source": []
  }
 ],
 "metadata": {
  "kernelspec": {
   "display_name": "nlp",
   "language": "python",
   "name": "nlp"
  },
  "language_info": {
   "codemirror_mode": {
    "name": "ipython",
    "version": 3
   },
   "file_extension": ".py",
   "mimetype": "text/x-python",
   "name": "python",
   "nbconvert_exporter": "python",
   "pygments_lexer": "ipython3",
   "version": "3.7.5"
  }
 },
 "nbformat": 4,
 "nbformat_minor": 5
}
